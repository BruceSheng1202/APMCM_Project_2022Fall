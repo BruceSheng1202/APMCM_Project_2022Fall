{
 "cells": [
  {
   "cell_type": "markdown",
   "metadata": {},
   "source": [
    "首先截取 1900年以后的信息, 因为这样不用处理空值\n",
    "通过每个国家地区的月均值与月方差, 每个月各生成10000条数据, 然后计算年度均值"
   ]
  },
  {
   "cell_type": "code",
   "execution_count": null,
   "metadata": {},
   "outputs": [],
   "source": [
    "import pandas as pd \n",
    "import numpy as np \n",
    "import random \n",
    "\n",
    "\n",
    "# 设置随机种子\n",
    "def seed_everything(SEED):\n",
    "    np.random.seed(SEED)\n",
    "    random.seed(SEED)\n",
    "SEED = 42 \n",
    "seed_everything(SEED)\n",
    "\n",
    "# 读取数据\n",
    "df = pd.read_csv('./2022_APMCM_C_Data.csv', encoding='gbk')\n",
    "\n",
    "# dt转换为标准的时间序列格式\n",
    "df.index = pd.DatetimeIndex(df['dt'])\n",
    "df.drop(columns=['dt'], inplace=True)\n",
    "\n",
    "# 纬度的处理\n",
    "df['Latitude'] = df['Latitude'].map(lambda x: float(x[: -1]) if x[-1] == 'N' else -float(x[: -1]))\n",
    "# 经度的处理\n",
    "df['Longitude'] = df['Longitude'].map(lambda x: float(x[: -1]) if x[-1] == 'E' else 360 - float(x[: -1]))\n",
    "\n",
    "# 生成单个位置\n",
    "df['location'] = df['Country'] + ' ' + df['City']\n",
    "df.drop(columns=['Country', 'City'], inplace=True)\n",
    "\n",
    "df['year'] = df.index.strftime('%Y').astype(int)\n",
    "df['month'] = df.index.strftime('%m').astype(int)"
   ]
  },
  {
   "cell_type": "code",
   "execution_count": null,
   "metadata": {},
   "outputs": [],
   "source": [
    "df_1 = df.loc['1900': ]\n",
    "df = df[df.index != '2013-09-01']\n",
    "df_year_dict = {}\n",
    "i = 1\n",
    "for location in df_1['location'].unique():\n",
    "    df_location = df_1[df_1['location']==location]\n",
    "    location_dict = {}\n",
    "    for year in df_location['year'].unique():\n",
    "        if year == 2013:\n",
    "            continue\n",
    "        df_year = df_location[df_location['year']==year]\n",
    "        temperature = []\n",
    "        for month in df_year['month'].unique():\n",
    "            mean = df_year.loc[df_year['month']==month, 'AverageTemperature'].values[0]\n",
    "            std = df_year.loc[df_year['month']==month, 'AverageTemperatureUncertainty'].values[0]\n",
    "            random_temperature = np.random.normal(mean, std, 10000)\n",
    "            temperature.append(random_temperature)\n",
    "        temperature = np.concatenate(temperature)\n",
    "        location_dict[year] = [temperature.mean(), temperature.std()]\n",
    "    df_year_dict[location] = location_dict\n",
    "    print(f\"{i} %, {location} done!\")\n",
    "    i += 1\n",
    "print('all location done!')"
   ]
  },
  {
   "cell_type": "code",
   "execution_count": null,
   "metadata": {},
   "outputs": [],
   "source": [
    "df_year = []\n",
    "for location, dict_1 in df_year_dict.items():\n",
    "    df_2 = pd.DataFrame(dict_1.values(), index=dict_1.keys(), columns=['AverageTemperature', 'AverageTemperatureUncertainty'])\n",
    "    df_2['Latitude'] = df[df['location']==location]['Latitude'].unique()[0]\n",
    "    df_2['Longitude'] = df[df['location']==location]['Longitude'].unique()[0]\n",
    "    df_2['location'] = location\n",
    "    df_year.append(df_2)\n",
    "df_year = pd.concat(df_year)\n",
    "df_year['year'] = df_year.index \n",
    "\n",
    "df_year.to_csv('year.csv', index=False)"
   ]
  }
 ],
 "metadata": {
  "kernelspec": {
   "display_name": "Python 3.7.0 ('base')",
   "language": "python",
   "name": "python3"
  },
  "language_info": {
   "name": "python",
   "version": "3.7.0"
  },
  "orig_nbformat": 4,
  "vscode": {
   "interpreter": {
    "hash": "b09ec625f77bf4fd762565a912b97636504ad6ec901eb2d0f4cf5a7de23e1ee5"
   }
  }
 },
 "nbformat": 4,
 "nbformat_minor": 2
}
