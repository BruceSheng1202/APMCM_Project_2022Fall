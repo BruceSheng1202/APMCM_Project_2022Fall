{
 "cells": [
  {
   "cell_type": "code",
   "execution_count": 4,
   "metadata": {},
   "outputs": [
    {
     "name": "stdout",
     "output_type": "stream",
     "text": [
      "90.0% confidence interval of previous 10 years temperature impact is: [0.9870000000000001, 1.113]\n",
      "90.0% confidence interval of 2022 month temperature impact is: [0.842, 0.891]\n",
      "95.0% confidence interval of previous 10 years temperature impact is: [0.974, 1.125]\n",
      "95.0% confidence interval of 2022 month temperature impact is: [0.8380000000000001, 0.8950000000000001]\n",
      "99.0% confidence interval of previous 10 years temperature impact is: [0.9450000000000001, 1.1459999999999997]\n",
      "99.0% confidence interval of 2022 month temperature impact is: [0.8310000000000001, 0.901]\n"
     ]
    }
   ],
   "source": [
    "import numpy as np\n",
    "\n",
    "temp1= [0.9,0.82,0.9,1.02,1.2,1.1,1.16,1.1,1.2,1.11]\n",
    "yearImpact = np.array(temp1)\n",
    "temp2 = [0.89,0.81,0.95,0.86,0.77,0.87,0.87,0.9,0.88,0.89]\n",
    "monthImpact = np.array(temp2)\n",
    "year_boot = []\n",
    "month_boot = []\n",
    "res = []\n",
    "alphaList = [0.1,0.05,0.01]\n",
    "N = len(yearImpact)\n",
    "B = 1000\n",
    "\n",
    "for b in range(B):\n",
    "    index = np.random.randint(0,N,size=N)\n",
    "    yBoot = yearImpact[index]\n",
    "    mBoot = monthImpact[index]\n",
    "    year_boot.append(yBoot.mean())\n",
    "    month_boot.append(mBoot.mean())\n",
    "year_boot.sort()\n",
    "month_boot.sort()\n",
    "\n",
    "for alpha in alphaList:\n",
    "    year_boot_left = year_boot[int(B/2*alpha)]\n",
    "    year_boot_right = year_boot[B-int(B/2*alpha)]\n",
    "    month_boot_left = month_boot[int(B/2*alpha)]\n",
    "    month_boot_right = month_boot[B-int(B/2*alpha)]\n",
    "\n",
    "    print(f\"{(1-alpha)*100}% confidence interval of previous 10 years temperature impact is: {[year_boot_left,year_boot_right]}\")\n",
    "    print(f\"{(1-alpha)*100}% confidence interval of 2022 month temperature impact is: {[month_boot_left,month_boot_right]}\")\n"
   ]
  }
 ],
 "metadata": {
  "kernelspec": {
   "display_name": "Python 3.9.13 64-bit (microsoft store)",
   "language": "python",
   "name": "python3"
  },
  "language_info": {
   "codemirror_mode": {
    "name": "ipython",
    "version": 3
   },
   "file_extension": ".py",
   "mimetype": "text/x-python",
   "name": "python",
   "nbconvert_exporter": "python",
   "pygments_lexer": "ipython3",
   "version": "3.9.13"
  },
  "orig_nbformat": 4,
  "vscode": {
   "interpreter": {
    "hash": "970a2a4939579a4c22872227820a264ec023ee5692739211cbaca24386397975"
   }
  }
 },
 "nbformat": 4,
 "nbformat_minor": 2
}
