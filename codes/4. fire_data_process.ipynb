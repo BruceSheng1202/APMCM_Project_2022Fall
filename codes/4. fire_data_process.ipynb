{
 "cells": [
  {
   "cell_type": "markdown",
   "metadata": {},
   "source": [
    "## 这个文件主要把焕新发的数据和apmcm给出的数据合并"
   ]
  },
  {
   "cell_type": "code",
   "execution_count": 2,
   "metadata": {},
   "outputs": [],
   "source": [
    "import pandas as pd\n",
    "from sklearn.neighbors import KNeighborsClassifier\n",
    "import os"
   ]
  },
  {
   "cell_type": "markdown",
   "metadata": {},
   "source": [
    "- 使用forest fire数据集中的latitude(纬度), longitude(经度), acq_date(日期), confidence(发生火灾的置信度), bright_t31(通道31的火焰亮度温度, 单位开尔文), type(火灾类型), Country(国家)\n",
    "- 由于apmcm中给的数据是国家的数据而没有给具体城市, 所以我们要根据经纬度确定该点是否在apmcm给的100个城市之中, 若在则保留, 不在则舍去\n",
    "- 1. 首先用K最近邻算法寻找forest fire各点距离最近的城市\n",
    "- 2. 若该点与距离它最近的城市的经纬度之差在3度的范围内, 则认为该点属于该城市"
   ]
  },
  {
   "cell_type": "code",
   "execution_count": 3,
   "metadata": {},
   "outputs": [
    {
     "name": "stdout",
     "output_type": "stream",
     "text": [
      "processing 2000...\n",
      "under matching...\n",
      "matching success!\n",
      "processing 2001...\n",
      "under matching...\n",
      "matching success!\n",
      "processing 2002...\n",
      "under matching...\n",
      "matching success!\n",
      "processing 2003...\n",
      "under matching...\n",
      "matching success!\n",
      "processing 2004...\n",
      "under matching...\n",
      "matching success!\n",
      "processing 2005...\n",
      "under matching...\n",
      "matching success!\n",
      "processing 2006...\n",
      "under matching...\n",
      "matching success!\n",
      "processing 2007...\n",
      "under matching...\n",
      "matching success!\n",
      "processing 2008...\n",
      "under matching...\n",
      "matching success!\n",
      "processing 2009...\n",
      "under matching...\n",
      "matching success!\n",
      "processing 2010...\n",
      "under matching...\n",
      "matching success!\n",
      "processing 2011...\n",
      "under matching...\n",
      "matching success!\n",
      "processing 2012...\n",
      "under matching...\n",
      "matching success!\n",
      "processing 2013...\n",
      "under matching...\n",
      "matching success!\n"
     ]
    }
   ],
   "source": [
    "df_all = []\n",
    "for year in range(2000, 2013 + 1):\n",
    "    print(f'processing {year}...')\n",
    "    df_fire = []\n",
    "    # reading forest fire file\n",
    "    for i in os.listdir(f'../forest fire/{year}/'):\n",
    "        country = i[11: -4]\n",
    "        df = pd.read_csv(f'../forest fire/{year}/{i}')\n",
    "        df['Country'] = country\n",
    "        df = df[['latitude', 'longitude', 'acq_date', 'confidence', 'bright_t31', 'type', 'Country']]\n",
    "        df_fire.append(df)\n",
    "    df_fire = pd.concat(df_fire)\n",
    "    df_fire.rename(columns={'acq_date': 'dt'}, inplace=True)\n",
    "    df_fire['dt'] = pd.DatetimeIndex(df_fire['dt'])\n",
    "    df_fire = df_fire[(df_fire['confidence']>=80)]\n",
    "    df_fire['dt'] = pd.DatetimeIndex(df_fire['dt'].astype(str).map(lambda x: x[: -2] + '01'))\n",
    "\n",
    "    # reading apmcm file\n",
    "    apmcm = pd.read_csv('../data/2022_APMCM_C_Data.csv', encoding='gbk')\n",
    "    apmcm['dt'] = pd.DatetimeIndex(apmcm['dt'])\n",
    "    apmcm['Latitude'] = apmcm['Latitude'].map(lambda x: float(x[: -1]) if x[-1] == 'N' else float(x[: -1]))\n",
    "    apmcm['Longitude'] = apmcm['Longitude'].map(lambda x: float(x[: -1]) if x[-1] == 'E' else - float(x[: -1]))\n",
    "    apmcm[apmcm['dt']>='1900']\n",
    "    apmcm = apmcm[apmcm['dt']!='2013-09-01']\n",
    "    apmcm.drop(columns=['AverageTemperatureUncertainty'], inplace=True)\n",
    "    data = apmcm[['Latitude', 'Longitude', 'City']].copy().drop_duplicates()\n",
    "\n",
    "    # match position\n",
    "    X = data.drop(columns=['City'])\n",
    "    y = data['City']\n",
    "    model = KNeighborsClassifier(n_neighbors=1, n_jobs=-1)\n",
    "    model.fit(X, y)\n",
    "    print('under matching...')\n",
    "    df_fire['City'] = model.predict(df_fire[['latitude', 'longitude']].values)\n",
    "    print('matching success!')\n",
    "    df_fire.rename(columns={'latitude': 'Latitude_1', 'longitude': 'Longitude_1'}, inplace=True)\n",
    "\n",
    "    # merge two Dataframe\n",
    "    df_merge = pd.merge(left=apmcm, right=df_fire, on=['Country', 'City', 'dt'])\n",
    "    df_merge = df_merge[((df_merge['Longitude'] - df_merge['Longitude_1'])**2 + (df_merge['Latitude'] - df_merge['Latitude_1'])**2)**0.5 <= 3]\n",
    "    df_merge = df_merge[['dt', 'AverageTemperature', 'City', 'Country', 'Latitude', 'Longitude', 'bright_t31', 'type']]\n",
    "\n",
    "    value = df_merge.groupby(['dt', 'City', 'Country', 'type']).mean().values\n",
    "    index = df_merge.groupby(['dt', 'City', 'Country', 'type']).mean().index\n",
    "\n",
    "    # generate DataFrame\n",
    "    df = pd.DataFrame([[str(i[0])[: -9], i[1], i[2], i[3]] for i in index], columns=['dt', 'City', 'Country', 'type'])\n",
    "    df[['AverageTemperature', 'Latitude', 'Longitude', 'bright_t31']] = value\n",
    "\n",
    "    df_all.append(df)\n",
    "df_all = pd.concat(df_all)\n",
    "df_all.to_csv('../data/temperature_forestfire.csv', index=False)"
   ]
  }
 ],
 "metadata": {
  "kernelspec": {
   "display_name": "Python 3.6.13 ('DeepLearning')",
   "language": "python",
   "name": "python3"
  },
  "language_info": {
   "codemirror_mode": {
    "name": "ipython",
    "version": 3
   },
   "file_extension": ".py",
   "mimetype": "text/x-python",
   "name": "python",
   "nbconvert_exporter": "python",
   "pygments_lexer": "ipython3",
   "version": "3.6.13"
  },
  "orig_nbformat": 4,
  "vscode": {
   "interpreter": {
    "hash": "42cc27f5a6c36577eca79f4721c34abb67162958417b94f4c20013378ef11f88"
   }
  }
 },
 "nbformat": 4,
 "nbformat_minor": 2
}
